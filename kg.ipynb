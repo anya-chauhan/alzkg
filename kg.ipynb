{
  "nbformat": 4,
  "nbformat_minor": 0,
  "metadata": {
    "colab": {
      "provenance": [],
      "authorship_tag": "ABX9TyPV6Q/0Nm098MYpWvnNugX+",
      "include_colab_link": true
    },
    "kernelspec": {
      "name": "python3",
      "display_name": "Python 3"
    },
    "language_info": {
      "name": "python"
    }
  },
  "cells": [
    {
      "cell_type": "markdown",
      "metadata": {
        "id": "view-in-github",
        "colab_type": "text"
      },
      "source": [
        "<a href=\"https://colab.research.google.com/github/anya-chauhan/alzkg/blob/main/kg.ipynb\" target=\"_parent\"><img src=\"https://colab.research.google.com/assets/colab-badge.svg\" alt=\"Open In Colab\"/></a>"
      ]
    },
    {
      "cell_type": "code",
      "source": [
        "# Install required libraries\n",
        "!pip install pandas\n",
        "import pandas as pd\n",
        "import numpy as np\n",
        "import re\n"
      ],
      "metadata": {
        "id": "WfDFpxIvGzjY",
        "colab": {
          "base_uri": "https://localhost:8080/"
        },
        "outputId": "33c67d99-4f33-4340-f87c-47f48dcc4d36"
      },
      "execution_count": 97,
      "outputs": [
        {
          "output_type": "stream",
          "name": "stdout",
          "text": [
            "Requirement already satisfied: pandas in /usr/local/lib/python3.10/dist-packages (1.5.3)\n",
            "Requirement already satisfied: python-dateutil>=2.8.1 in /usr/local/lib/python3.10/dist-packages (from pandas) (2.8.2)\n",
            "Requirement already satisfied: pytz>=2020.1 in /usr/local/lib/python3.10/dist-packages (from pandas) (2023.4)\n",
            "Requirement already satisfied: numpy>=1.21.0 in /usr/local/lib/python3.10/dist-packages (from pandas) (1.25.2)\n",
            "Requirement already satisfied: six>=1.5 in /usr/local/lib/python3.10/dist-packages (from python-dateutil>=2.8.1->pandas) (1.16.0)\n"
          ]
        }
      ]
    },
    {
      "cell_type": "code",
      "execution_count": 98,
      "metadata": {
        "id": "90A3iEQIGY2N",
        "colab": {
          "base_uri": "https://localhost:8080/"
        },
        "outputId": "0d7f963e-4b39-41e1-e728-78655104830c"
      },
      "outputs": [
        {
          "output_type": "stream",
          "name": "stdout",
          "text": [
            "Drive already mounted at /content/drive; to attempt to forcibly remount, call drive.mount(\"/content/drive\", force_remount=True).\n"
          ]
        }
      ],
      "source": [
        "# Import the drive module from Google Colab for file access, mount Google Drive\n",
        "from google.colab import drive\n",
        "drive.mount('/content/drive')\n"
      ]
    },
    {
      "cell_type": "code",
      "source": [
        "# Upload the dataset to be added to PrimeKG, each celltype is being processed as separate CSV files\n",
        "# Manually add the celltype to nodes.csv before proceeding\n",
        "cell = pd.read_csv('/content/drive/My Drive/primekg_files/Mic.csv')\n",
        "cellname = 'Mic'\n",
        "cellid = 'mathys-c6'\n",
        "startingindex = 846\n",
        "\n",
        "# Extract columns representing genes, p-values, and log fold change\n",
        "column_indices1 = ['Gene', 'IndModel.adj.pvals', 'IndModel.FC']   # Indices for no-pathology vs pathology\n",
        "column_indices2 = ['Gene.1', 'IndModel.adj.pvals.1', 'IndModel.FC.1']  # Indices for no-pathology vs early-pathology\n",
        "column_indices3 = ['Gene.2', 'IndModel.adj.pvals.2', 'IndModel.FC.2']  # Indices for early-pathology vs late-pathology\n",
        "cell_1 = cell.loc[:, column_indices1]\n",
        "cell_2 = cell.loc[:, column_indices2]\n",
        "cell_3 = cell.loc[:, column_indices3]\n",
        "\n",
        "# Data Cleaning\n",
        "def looks_like_date_or_nan(name):\n",
        "    # Check if the input is NaN\n",
        "    if pd.isna(name):\n",
        "        return True\n",
        "    # Ensure the input is a string before applying the regex\n",
        "    elif isinstance(name, str):\n",
        "        # Regular expression to match patterns like '12-Sept' found in mathys dataset\n",
        "        if re.match(r\"^\\d{1,2}-[A-Za-z]{3,4}$\", name):\n",
        "            return True\n",
        "    return False\n",
        "\n",
        "# Filter out rows where gene names look like dates in each DataFrame\n",
        "cell_1 = cell_1[~cell_1['Gene'].apply(looks_like_date_or_nan)]\n",
        "cell_2 = cell_2[~cell_2['Gene.1'].apply(looks_like_date_or_nan)]\n",
        "cell_3 = cell_3[~cell_3['Gene.2'].apply(looks_like_date_or_nan)]\n",
        "\n",
        "print (cell_1.head())\n",
        "print (cell_2.head())\n",
        "print (cell_3.head())"
      ],
      "metadata": {
        "id": "tdZrIwzbLc_m",
        "colab": {
          "base_uri": "https://localhost:8080/"
        },
        "outputId": "45f4ba3a-8cba-4bd3-f684-adf0e18b816e"
      },
      "execution_count": 99,
      "outputs": [
        {
          "output_type": "stream",
          "name": "stdout",
          "text": [
            "     Gene  IndModel.adj.pvals   IndModel.FC\n",
            "0    SPP1        8.890000e-11   1.102719289\n",
            "1    CD81        1.100000e-07   1.452582865\n",
            "2  IFI44L        3.030000e-07  -1.569204604\n",
            "3    APOE        1.150000e-06   0.536419398\n",
            "4   TMEM2        1.270000e-06   -1.76525838\n",
            "   Gene.1  IndModel.adj.pvals.1 IndModel.FC.1\n",
            "0    SPP1          7.090000e-08   0.942427248\n",
            "1    CD81          2.703360e-04    1.33454586\n",
            "2    C1QC          5.483130e-04   1.053320717\n",
            "3  LINGO1          8.330450e-04    0.63703537\n",
            "4   APOC1          8.853800e-04   1.724511806\n",
            "     Gene.2  IndModel.adj.pvals.2 IndModel.FC.2\n",
            "0  HSP90AA1              0.000022   0.994115665\n",
            "1    HSPA1A              0.001253   0.915011227\n",
            "2   HLA-DRA              0.001253    0.96369686\n",
            "3      CST3              0.015148   0.872345441\n",
            "4    CHST11              0.015834  -0.528742596\n"
          ]
        }
      ]
    },
    {
      "cell_type": "code",
      "source": [
        "# Filter rows based on p-value threshold (p < 0.05) and non-null criteria\n",
        "cell_1 = cell_1[(cell_1['IndModel.adj.pvals'] < 0.05) & (~np.isnan(cell_1['IndModel.adj.pvals']))].copy()\n",
        "cell_2 = cell_2[(cell_2['IndModel.adj.pvals.1'] < 0.05) & (~np.isnan(cell_2['IndModel.adj.pvals.1']))].copy()\n",
        "cell_3 = cell_3[(cell_3['IndModel.adj.pvals.2'] < 0.05) & (~np.isnan(cell_3['IndModel.adj.pvals.2']))].copy()\n",
        "\n",
        "# Drop pval column, no longer needed\n",
        "cell_1.drop('IndModel.adj.pvals', axis=1, inplace=True)\n",
        "cell_2.drop('IndModel.adj.pvals.1', axis=1, inplace=True)\n",
        "cell_3.drop('IndModel.adj.pvals.2', axis=1, inplace=True)"
      ],
      "metadata": {
        "id": "QA5RxunFR2XM"
      },
      "execution_count": 100,
      "outputs": []
    },
    {
      "cell_type": "code",
      "source": [
        "# Convert fold change values to numeric and categorize into edge types\n",
        "cell_1['IndModel.FC'] = pd.to_numeric(cell_1['IndModel.FC'], errors='coerce')\n",
        "cell_1['IndModel.FC'] = cell_1['IndModel.FC'].apply(lambda x: 'no-pathology vs pathology up mathys' if x > 0 else 'no-pathology vs pathology down mathys')\n",
        "\n",
        "cell_2['IndModel.FC.1'] = pd.to_numeric(cell_2['IndModel.FC.1'], errors='coerce')\n",
        "cell_2['IndModel.FC.1'] = cell_2['IndModel.FC.1'].apply(lambda x: 'no-pathology vs early-pathology up mathys' if x > 0 else 'no-pathology vs early-pathology down mathys')\n",
        "\n",
        "cell_3['IndModel.FC.2'] = pd.to_numeric(cell_3['IndModel.FC.2'], errors='coerce')\n",
        "cell_3['IndModel.FC.2'] = cell_3['IndModel.FC.2'].apply(lambda x: 'early-pathology vs late-pathology up mathys' if x > 0 else 'early-pathology vs late-pathology down mathys')\n",
        "\n",
        "#print df head to check\n",
        "print (cell_1.head())\n",
        "print (cell_2.head())\n",
        "print (cell_3.head())"
      ],
      "metadata": {
        "id": "JWGVV81XVvUf",
        "colab": {
          "base_uri": "https://localhost:8080/"
        },
        "outputId": "eca130f5-9f35-4ad7-c98f-57ed7e5dd5d5"
      },
      "execution_count": 101,
      "outputs": [
        {
          "output_type": "stream",
          "name": "stdout",
          "text": [
            "     Gene                            IndModel.FC\n",
            "0    SPP1    no-pathology vs pathology up mathys\n",
            "1    CD81    no-pathology vs pathology up mathys\n",
            "2  IFI44L  no-pathology vs pathology down mathys\n",
            "3    APOE    no-pathology vs pathology up mathys\n",
            "4   TMEM2  no-pathology vs pathology down mathys\n",
            "   Gene.1                              IndModel.FC.1\n",
            "0    SPP1  no-pathology vs early-pathology up mathys\n",
            "1    CD81  no-pathology vs early-pathology up mathys\n",
            "2    C1QC  no-pathology vs early-pathology up mathys\n",
            "3  LINGO1  no-pathology vs early-pathology up mathys\n",
            "4   APOC1  no-pathology vs early-pathology up mathys\n",
            "     Gene.2                                  IndModel.FC.2\n",
            "0  HSP90AA1    early-pathology vs late-pathology up mathys\n",
            "1    HSPA1A    early-pathology vs late-pathology up mathys\n",
            "2   HLA-DRA    early-pathology vs late-pathology up mathys\n",
            "3      CST3    early-pathology vs late-pathology up mathys\n",
            "4    CHST11  early-pathology vs late-pathology down mathys\n"
          ]
        }
      ]
    },
    {
      "cell_type": "code",
      "source": [
        "# Load existing PrimeKG nodes data\n",
        "nodes = pd.read_csv('/content/drive/My Drive/primekg_files/nodes.csv')\n",
        "\n",
        "# Create a dictionary to map existing node names to their IDs for efficient lookup\n",
        "node_id_dict = nodes.set_index('node_name')['node_id'].to_dict()\n",
        "\n",
        "# Map gene names in cell_1 to their corresponding node IDs using the dictionary\n",
        "cell_1['node_id'] = cell_1['Gene'].map(node_id_dict)\n",
        "\n",
        "# Initialize a list to collect new node data and a counter for new node IDs\n",
        "new_rows = []\n",
        "mathys_index = startingindex  # Start counter for generating unique new node IDs\n",
        "\n",
        "# Determine the starting index for new nodes based on the existing data\n",
        "new_node_index = nodes['node_index'].max() + 1\n",
        "\n",
        "# Process each row in cell_1 to update existing nodes or create new node entries\n",
        "for i, row in cell_1.iterrows():\n",
        "    if pd.isna(row['node_id']):\n",
        "        # Assign a unique new node ID for genes not already in PrimeKG\n",
        "        new_node_id = f\"mathys{mathys_index}\"\n",
        "        cell_1.at[i, 'node_id'] = new_node_id\n",
        "\n",
        "        # Construct a new node entry and add it to the list\n",
        "        new_row = {\n",
        "            'node_index': new_node_index,\n",
        "            'node_id': new_node_id,\n",
        "            'node_type': 'gene/protein',\n",
        "            'node_name': row['Gene'],\n",
        "            'node_source': 'mathys et al. 2019'\n",
        "        }\n",
        "        new_rows.append(new_row)\n",
        "        mathys_index += 1\n",
        "        new_node_index += 1\n",
        "\n",
        "# Combine the newly created node data with the existing nodes DataFrame\n",
        "nodes_1 = pd.DataFrame()\n",
        "nodes_1 = pd.concat([nodes, pd.DataFrame(new_rows)], ignore_index=True)\n",
        "\n",
        "# Output information about the updated nodes for verification\n",
        "print(\"Final mathys_index:\", mathys_index)\n",
        "print(\"check nodes:\\n\", pd.DataFrame(new_rows).head())\n"
      ],
      "metadata": {
        "colab": {
          "base_uri": "https://localhost:8080/"
        },
        "id": "UEVmKJJcUk1H",
        "outputId": "3092bb56-a06e-4d38-e30b-8af89af5afbe"
      },
      "execution_count": 102,
      "outputs": [
        {
          "output_type": "stream",
          "name": "stdout",
          "text": [
            "Final mathys_index: 846\n",
            "check nodes:\n",
            " Empty DataFrame\n",
            "Columns: []\n",
            "Index: []\n"
          ]
        }
      ]
    },
    {
      "cell_type": "code",
      "source": [
        "# Update the node ID dictionary with the latest nodes data from nodes_1\n",
        "node_id_dict = nodes_1.set_index('node_name')['node_id'].to_dict()\n",
        "\n",
        "# Map gene names in cell_2 to their corresponding node IDs using the updated dictionary\n",
        "cell_2['node_id'] = cell_2['Gene.1'].map(node_id_dict)\n",
        "\n",
        "# Determine the starting index for new nodes based on the updated nodes data\n",
        "new_node_index = nodes_1['node_index'].max() + 1\n",
        "\n",
        "# Clear new_rows before starting to process cell_2 to avoid appending to old data\n",
        "new_rows = []\n",
        "\n",
        "# Process each row in cell_2 to update existing nodes or create new node entries\n",
        "for i, row in cell_2.iterrows():\n",
        "    if pd.isna(row['node_id']):\n",
        "        # Assign a unique new node ID for genes not already in PrimeKG\n",
        "        new_node_id = f\"mathys{mathys_index}\"\n",
        "        cell_2.at[i, 'node_id'] = new_node_id\n",
        "\n",
        "        # Construct a new node entry and add it to the list\n",
        "        new_row = {\n",
        "            'node_index': new_node_index,\n",
        "            'node_id': new_node_id,\n",
        "            'node_type': 'gene/protein',\n",
        "            'node_name': row['Gene.1'],\n",
        "            'node_source': 'mathys et al. 2019'\n",
        "        }\n",
        "        new_rows.append(new_row)\n",
        "        mathys_index += 1\n",
        "        new_node_index += 1\n",
        "\n",
        "# Combine the newly created node data with the previously updated nodes DataFrame (nodes_1)\n",
        "nodes_2 = pd.DataFrame()\n",
        "nodes_2 = pd.concat([nodes_1, pd.DataFrame(new_rows)], ignore_index=True)\n",
        "\n",
        "# Output information about the updated nodes for verification\n",
        "print(\"Final mathys_index for cell_2 processing:\", mathys_index)\n",
        "print(\"check nodes:\\n\", pd.DataFrame(new_rows).head())\n"
      ],
      "metadata": {
        "colab": {
          "base_uri": "https://localhost:8080/"
        },
        "id": "NBYcslJ3WndG",
        "outputId": "6c72a063-3096-4fa1-953f-0f0d6721fcb2"
      },
      "execution_count": 103,
      "outputs": [
        {
          "output_type": "stream",
          "name": "stdout",
          "text": [
            "Final mathys_index for cell_2 processing: 846\n",
            "check nodes:\n",
            " Empty DataFrame\n",
            "Columns: []\n",
            "Index: []\n"
          ]
        }
      ]
    },
    {
      "cell_type": "code",
      "source": [
        "# Update the node ID dictionary with the latest nodes data from nodes_2\n",
        "node_id_dict = nodes_2.set_index('node_name')['node_id'].to_dict()\n",
        "\n",
        "# Map gene names in cell_3 to their corresponding node IDs using the updated dictionary\n",
        "cell_3['node_id'] = cell_3['Gene.2'].map(node_id_dict)\n",
        "\n",
        "# Determine the starting index for new nodes based on the updated nodes data\n",
        "new_node_index = nodes_2['node_index'].max() + 1\n",
        "\n",
        "# Clear new_rows before starting to process cell_2 to avoid appending to old data\n",
        "new_rows = []\n",
        "\n",
        "# Process each row in cell_3 to update existing nodes or create new node entries\n",
        "for i, row in cell_3.iterrows():\n",
        "    if pd.isna(row['node_id']):\n",
        "        # Assign a unique new node ID for genes not already in PrimeKG\n",
        "        new_node_id = f\"mathys{mathys_index}\"\n",
        "        cell_3.at[i, 'node_id'] = new_node_id\n",
        "\n",
        "        # Construct a new node entry and add it to the list\n",
        "        new_row = {\n",
        "            'node_index': new_node_index,\n",
        "            'node_id': new_node_id,\n",
        "            'node_type': 'gene/protein',\n",
        "            'node_name': row['Gene.2'],\n",
        "            'node_source': 'mathys et al. 2019'\n",
        "        }\n",
        "        new_rows.append(new_row)\n",
        "        mathys_index += 1\n",
        "        new_node_index += 1\n",
        "\n",
        "# Combine the newly created node data with the previously updated nodes DataFrame (nodes_2)\n",
        "nodes_3 = pd.DataFrame()\n",
        "nodes_3 = pd.concat([nodes_2, pd.DataFrame(new_rows)], ignore_index=True)\n",
        "\n",
        "# Output information about the updated nodes for verification\n",
        "print(\"Final mathys_index for cell_3 processing:\", mathys_index)\n",
        "print(\"check nodes:\\n\", pd.DataFrame(new_rows).head())\n"
      ],
      "metadata": {
        "colab": {
          "base_uri": "https://localhost:8080/"
        },
        "id": "O0RBxqseXbgJ",
        "outputId": "2670bb26-3860-4482-b023-19882181d417"
      },
      "execution_count": 104,
      "outputs": [
        {
          "output_type": "stream",
          "name": "stdout",
          "text": [
            "Final mathys_index for cell_3 processing: 846\n",
            "check nodes:\n",
            " Empty DataFrame\n",
            "Columns: []\n",
            "Index: []\n"
          ]
        }
      ]
    },
    {
      "cell_type": "code",
      "source": [
        "# Convert DataFrame 'cell_1' to PrimeKG format for integration\n",
        "new_df1 = pd.DataFrame()\n",
        "\n",
        "# Copy the 'relation' data from 'cell_1'\n",
        "new_df1['relation'] = cell_1['IndModel.FC']\n",
        "new_df1['display_relation'] = new_df1['relation'].map({\n",
        "    'no-pathology vs pathology up mathys': 'np-p-up m',\n",
        "    'no-pathology vs pathology down mathys': 'np-p-down m'\n",
        "})\n",
        "\n",
        "# Set attributes for x_node in the PrimeKG data format\n",
        "new_df1['x_id'] = cellid  # Unique identifier for the x_node\n",
        "new_df1['x_type'] = 'celltype'  # Type of the x_node\n",
        "new_df1['x_name'] = cellname  # Name of the x_node\n",
        "new_df1['x_source'] = 'mathys et al. 2019'  # Source of the x_node data\n",
        "\n",
        "# Set attributes for y_node in the PrimeKG data format\n",
        "new_df1['y_id'] = cell_1['node_id']  # Unique identifier for the y_node\n",
        "new_df1['y_type'] = 'gene/protein'  # Type of the y_node\n",
        "new_df1['y_name'] = cell_1['Gene']  # Name of the y_node\n",
        "\n",
        "# Determine the y_source based on the node_id\n",
        "new_df1['y_source'] = new_df1['y_id'].apply(lambda x: 'mathys et al. 2019' if x.startswith('mathys') else 'NCBI')\n",
        "\n",
        "# Print the first few rows of the new DataFrame to verify the structure\n",
        "print(new_df1.head())\n"
      ],
      "metadata": {
        "colab": {
          "base_uri": "https://localhost:8080/"
        },
        "id": "CDjjoUQfbbVK",
        "outputId": "a61d8f7c-5354-41f8-f13c-02097bda03b7"
      },
      "execution_count": 105,
      "outputs": [
        {
          "output_type": "stream",
          "name": "stdout",
          "text": [
            "                                relation display_relation       x_id  \\\n",
            "0    no-pathology vs pathology up mathys        np-p-up m  mathys-c6   \n",
            "1    no-pathology vs pathology up mathys        np-p-up m  mathys-c6   \n",
            "2  no-pathology vs pathology down mathys      np-p-down m  mathys-c6   \n",
            "3    no-pathology vs pathology up mathys        np-p-up m  mathys-c6   \n",
            "4  no-pathology vs pathology down mathys      np-p-down m  mathys-c6   \n",
            "\n",
            "     x_type x_name            x_source       y_id        y_type  y_name  \\\n",
            "0  celltype    Mic  mathys et al. 2019       6696  gene/protein    SPP1   \n",
            "1  celltype    Mic  mathys et al. 2019        975  gene/protein    CD81   \n",
            "2  celltype    Mic  mathys et al. 2019      10964  gene/protein  IFI44L   \n",
            "3  celltype    Mic  mathys et al. 2019        348  gene/protein    APOE   \n",
            "4  celltype    Mic  mathys et al. 2019  mathys160  gene/protein   TMEM2   \n",
            "\n",
            "             y_source  \n",
            "0                NCBI  \n",
            "1                NCBI  \n",
            "2                NCBI  \n",
            "3                NCBI  \n",
            "4  mathys et al. 2019  \n"
          ]
        }
      ]
    },
    {
      "cell_type": "code",
      "source": [
        "# Convert DataFrame 'cell_2' to PrimeKG format for integration\n",
        "new_df2 = pd.DataFrame()\n",
        "\n",
        "# Copy the 'relation' data from 'cell_2'\n",
        "new_df2['relation'] = cell_2['IndModel.FC.1']\n",
        "new_df2['display_relation'] = new_df2['relation'].map({\n",
        "    'no-pathology vs early-pathology up mathys': 'np-ep-up m',\n",
        "    'no-pathology vs early-pathology down mathys': 'np-ep-down m'\n",
        "})\n",
        "\n",
        "# Set attributes for x_node in the PrimeKG data format\n",
        "new_df2['x_id'] = cellid  # Unique identifier for the x_node\n",
        "new_df2['x_type'] = 'celltype'  # Type of the x_node\n",
        "new_df2['x_name'] = cellname  # Name of the x_node\n",
        "new_df2['x_source'] = 'mathys et al. 2019'  # Source of the x_node data\n",
        "\n",
        "# Set attributes for y_node in the PrimeKG data format\n",
        "new_df2['y_id'] = cell_2['node_id']  # Unique identifier for the y_node\n",
        "new_df2['y_type'] = 'gene/protein'  # Type of the y_node\n",
        "new_df2['y_name'] = cell_2['Gene.1']  # Name of the y_node\n",
        "\n",
        "# Determine the y_source based on the node_id\n",
        "new_df2['y_source'] = new_df2['y_id'].apply(lambda x: 'mathys et al. 2019' if x.startswith('mathys') else 'NCBI')\n",
        "\n",
        "# Print the first few rows of 'new_df2' to verify the structure and data mapping\n",
        "print(new_df2.head())\n"
      ],
      "metadata": {
        "colab": {
          "base_uri": "https://localhost:8080/"
        },
        "id": "LsPDDjzycvr-",
        "outputId": "fc32c032-b407-4c2f-8b20-ff53b90ab353"
      },
      "execution_count": 106,
      "outputs": [
        {
          "output_type": "stream",
          "name": "stdout",
          "text": [
            "                                    relation display_relation       x_id  \\\n",
            "0  no-pathology vs early-pathology up mathys       np-ep-up m  mathys-c6   \n",
            "1  no-pathology vs early-pathology up mathys       np-ep-up m  mathys-c6   \n",
            "2  no-pathology vs early-pathology up mathys       np-ep-up m  mathys-c6   \n",
            "3  no-pathology vs early-pathology up mathys       np-ep-up m  mathys-c6   \n",
            "4  no-pathology vs early-pathology up mathys       np-ep-up m  mathys-c6   \n",
            "\n",
            "     x_type x_name            x_source   y_id        y_type  y_name y_source  \n",
            "0  celltype    Mic  mathys et al. 2019   6696  gene/protein    SPP1     NCBI  \n",
            "1  celltype    Mic  mathys et al. 2019    975  gene/protein    CD81     NCBI  \n",
            "2  celltype    Mic  mathys et al. 2019    714  gene/protein    C1QC     NCBI  \n",
            "3  celltype    Mic  mathys et al. 2019  84894  gene/protein  LINGO1     NCBI  \n",
            "4  celltype    Mic  mathys et al. 2019    341  gene/protein   APOC1     NCBI  \n"
          ]
        }
      ]
    },
    {
      "cell_type": "code",
      "source": [
        "# Convert DataFrame 'cell_3' to PrimeKG format for integration\n",
        "new_df3 = pd.DataFrame()\n",
        "\n",
        "# Copy the 'relation' data from 'cell_3'\n",
        "new_df3['relation'] = cell_3['IndModel.FC.2']\n",
        "new_df3['display_relation'] = new_df3['relation'].map({\n",
        "    'early-pathology vs late-pathology up mathys': 'ep-lp-up m',\n",
        "    'early-pathology vs late-pathology down mathys': 'ep-lp-down m'\n",
        "})\n",
        "\n",
        "# Set attributes for x_node in the PrimeKG data format\n",
        "new_df3['x_id'] = cellid  # Identifier for the x_node\n",
        "new_df3['x_type'] = 'celltype'  # Type of the x_node\n",
        "new_df3['x_name'] = cellname  # Name of the x_node\n",
        "new_df3['x_source'] = 'mathys et al. 2019'  # Data source for the x_node\n",
        "\n",
        "# Set attributes for y_node in the PrimeKG data format\n",
        "new_df3['y_id'] = cell_3['node_id']  # Unique identifier for each y_node\n",
        "new_df3['y_type'] = 'gene/protein'  # Type of the y_node\n",
        "new_df3['y_name'] = cell_3['Gene.2']  # Name of the y_node\n",
        "\n",
        "# Determine the y_source based on the node_id\n",
        "new_df3['y_source'] = new_df3['y_id'].apply(lambda x: 'mathys et al. 2019' if x.startswith('mathys') else 'NCBI')\n",
        "\n",
        "# Print the first few rows of 'new_df3' to verify correct data formatting and mapping\n",
        "print(new_df3.head())\n"
      ],
      "metadata": {
        "colab": {
          "base_uri": "https://localhost:8080/"
        },
        "id": "WwYFbxbXdv2W",
        "outputId": "81c45e49-e1d3-445d-b5d3-61743159968c"
      },
      "execution_count": 107,
      "outputs": [
        {
          "output_type": "stream",
          "name": "stdout",
          "text": [
            "                                        relation display_relation       x_id  \\\n",
            "0    early-pathology vs late-pathology up mathys       ep-lp-up m  mathys-c6   \n",
            "1    early-pathology vs late-pathology up mathys       ep-lp-up m  mathys-c6   \n",
            "2    early-pathology vs late-pathology up mathys       ep-lp-up m  mathys-c6   \n",
            "3    early-pathology vs late-pathology up mathys       ep-lp-up m  mathys-c6   \n",
            "4  early-pathology vs late-pathology down mathys     ep-lp-down m  mathys-c6   \n",
            "\n",
            "     x_type x_name            x_source   y_id        y_type    y_name y_source  \n",
            "0  celltype    Mic  mathys et al. 2019   3320  gene/protein  HSP90AA1     NCBI  \n",
            "1  celltype    Mic  mathys et al. 2019   3303  gene/protein    HSPA1A     NCBI  \n",
            "2  celltype    Mic  mathys et al. 2019   3122  gene/protein   HLA-DRA     NCBI  \n",
            "3  celltype    Mic  mathys et al. 2019   1471  gene/protein      CST3     NCBI  \n",
            "4  celltype    Mic  mathys et al. 2019  50515  gene/protein    CHST11     NCBI  \n"
          ]
        }
      ]
    },
    {
      "cell_type": "code",
      "source": [
        "# Read in kgraw\n",
        "kgraw = pd.read_csv('/content/drive/My Drive/primekg_files/kg_raw.csv')\n"
      ],
      "metadata": {
        "colab": {
          "base_uri": "https://localhost:8080/"
        },
        "id": "3YTjC811fAGW",
        "outputId": "089d693c-4e0e-45a7-d86e-bbd8d0d74066"
      },
      "execution_count": 108,
      "outputs": [
        {
          "output_type": "stream",
          "name": "stderr",
          "text": [
            "<ipython-input-108-47bc0c712f0a>:2: DtypeWarning: Columns (2,6) have mixed types. Specify dtype option on import or set low_memory=False.\n",
            "  kgraw = pd.read_csv('/content/drive/My Drive/primekg_files/kg_raw.csv')\n"
          ]
        }
      ]
    },
    {
      "cell_type": "code",
      "source": [
        "# Mirror each edge, for each (x,y) edge there should also be a (y,x) edge to match PrimeKG format\n",
        "combined_df = pd.concat([new_df1, new_df2, new_df3], ignore_index=True)\n",
        "interchanged_df = combined_df.copy()\n",
        "\n",
        "columns_to_interchange = ['id', 'type', 'name', 'source']\n",
        "for col in columns_to_interchange:\n",
        "    interchanged_df[f'x_{col}'], interchanged_df[f'y_{col}'] = combined_df[f'y_{col}'], combined_df[f'x_{col}']\n",
        "\n",
        "# now concatenate kgraw with the dataframes\n",
        "final = pd.concat([kgraw, combined_df, interchanged_df], ignore_index=True)\n",
        "\n",
        "\n",
        "\n",
        "final.to_csv('/content/drive/My Drive/primekg_files/kgraw.csv', index=False, header=True)\n",
        "nodes_3.to_csv('/content/drive/My Drive/primekg_files/nodes.csv', index=False, header=True)\n",
        "\n"
      ],
      "metadata": {
        "id": "lRMvt_5cG4ke"
      },
      "execution_count": 109,
      "outputs": []
    }
  ]
}