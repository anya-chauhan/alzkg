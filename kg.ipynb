{
  "nbformat": 4,
  "nbformat_minor": 0,
  "metadata": {
    "colab": {
      "provenance": []
    },
    "kernelspec": {
      "name": "python3",
      "display_name": "Python 3"
    },
    "language_info": {
      "name": "python"
    }
  },
  "cells": [
    {
      "cell_type": "code",
      "source": [
        "# Install required libraries\n",
        "!pip install pandas\n",
        "import pandas as pd\n",
        "import numpy as np\n",
        "import re\n"
      ],
      "metadata": {
        "id": "WfDFpxIvGzjY"
      },
      "execution_count": null,
      "outputs": []
    },
    {
      "cell_type": "code",
      "execution_count": null,
      "metadata": {
        "id": "90A3iEQIGY2N"
      },
      "outputs": [],
      "source": [
        "# Import the drive module from Google Colab for file access, mount Google Drive\n",
        "from google.colab import drive\n",
        "drive.mount('/content/drive')\n"
      ]
    },
    {
      "cell_type": "code",
      "source": [
        "# Upload the dataset to be added to PrimeKG, each celltype is being processed as separate CSV files\n",
        "# Manually add the celltype to nodes.csv before proceeding\n",
        "cell = pd.read_csv('/content/drive/My Drive/primekg_files/ex.csv')\n",
        "\n",
        "def looks_like_date_or_nan(name):\n",
        "    # Check if the input is NaN\n",
        "    if pd.isna(name):\n",
        "        return True\n",
        "    # Ensure the input is a string before applying the regex\n",
        "    elif isinstance(name, str):\n",
        "        # Regular expression to match patterns like '12-Sept' found in mathys dataset\n",
        "        if re.match(r\"^\\d{1,2}-[A-Za-z]{3,4}$\", name):\n",
        "            return True\n",
        "    return False\n",
        "\n",
        "\n",
        "# Extract columns representing genes, p-values, and log fold change\n",
        "column_indices1 = [0, 1, 4]   # Indices for no-pathology vs pathology\n",
        "column_indices2 = [11, 12, 15]  # Indices for no-pathology vs early-pathology\n",
        "column_indices3 = [22, 23, 26]  # Indices for early-pathology vs late-pathology\n",
        "cell_1 = cell.iloc[:, column_indices1]\n",
        "cell_2 = cell.iloc[:, column_indices2]\n",
        "cell_3 = cell.iloc[:, column_indices3]\n",
        "\n",
        "# Filter out rows where gene names look like dates in each DataFrame\n",
        "cell_1 = cell_1[~cell_1['Unnamed: 0'].apply(looks_like_date_or_nan)]\n",
        "cell_2 = cell_2[~cell_2['Unnamed: 11'].apply(looks_like_date_or_nan)]\n",
        "cell_3 = cell_3[~cell_3['Unnamed: 22'].apply(looks_like_date_or_nan)]"
      ],
      "metadata": {
        "id": "tdZrIwzbLc_m"
      },
      "execution_count": null,
      "outputs": []
    },
    {
      "cell_type": "code",
      "source": [
        "# Filter rows based on p-value threshold (p < 0.05) and non-null criteria\n",
        "cell_1 = cell_1[(cell_1['IndModel.adj.pvals'] < 0.05) & (~np.isnan(cell_1['IndModel.adj.pvals']))].copy()\n",
        "cell_2 = cell_2[(cell_2['IndModel.adj.pvals.1'] < 0.05) & (~np.isnan(cell_2['IndModel.adj.pvals.1']))].copy()\n",
        "cell_3 = cell_3[(cell_3['IndModel.adj.pvals.2'] < 0.05) & (~np.isnan(cell_3['IndModel.adj.pvals.2']))].copy()\n",
        "\n",
        "# Drop pval column, no longer needed\n",
        "cell_1.drop('IndModel.adj.pvals', axis=1, inplace=True)\n",
        "cell_2.drop('IndModel.adj.pvals.1', axis=1, inplace=True)\n",
        "cell_3.drop('IndModel.adj.pvals.2', axis=1, inplace=True)"
      ],
      "metadata": {
        "id": "QA5RxunFR2XM"
      },
      "execution_count": null,
      "outputs": []
    },
    {
      "cell_type": "code",
      "source": [
        "# Convert fold change values to numeric and categorize into edge types\n",
        "cell_1['IndModel.FC'] = pd.to_numeric(cell_1['IndModel.FC'], errors='coerce')\n",
        "cell_1['IndModel.FC'] = cell_1['IndModel.FC'].apply(lambda x: 'no-pathology vs pathology up mathys' if x > 0 else 'no-pathology vs pathology down mathys')\n",
        "\n",
        "cell_2['IndModel.FC.1'] = pd.to_numeric(cell_2['IndModel.FC.1'], errors='coerce')\n",
        "cell_2['IndModel.FC.1'] = cell_2['IndModel.FC.1'].apply(lambda x: 'no-pathology vs early-pathology up mathys' if x > 0 else 'no-pathology vs early-pathology down mathys')\n",
        "\n",
        "cell_3['IndModel.FC.2'] = pd.to_numeric(cell_3['IndModel.FC.2'], errors='coerce')\n",
        "cell_3['IndModel.FC.2'] = cell_3['IndModel.FC.2'].apply(lambda x: 'early-pathology vs late-pathology up mathys' if x > 0 else 'early-pathology vs late-pathology down mathys')\n",
        "\n",
        "#print df head to check\n",
        "#print (cell_1.head())\n",
        "#print (cell_2.head())\n",
        "#print (cell_3.head())"
      ],
      "metadata": {
        "id": "JWGVV81XVvUf"
      },
      "execution_count": null,
      "outputs": []
    },
    {
      "cell_type": "code",
      "source": [
        "# Load existing PrimeKG nodes data\n",
        "nodes = pd.read_csv('/content/drive/My Drive/primekg_files/nodes.csv')\n",
        "\n",
        "# Create a dictionary to map existing node names to their IDs for efficient lookup\n",
        "node_id_dict = nodes.set_index('node_name')['node_id'].to_dict()\n",
        "\n",
        "# Map gene names in cell_1 to their corresponding node IDs using the dictionary\n",
        "cell_1['node_id'] = cell_1['Unnamed: 0'].map(node_id_dict)\n",
        "\n",
        "# Initialize a list to collect new node data and a counter for new node IDs\n",
        "new_rows = []\n",
        "mathys_index = 1  # Start counter for generating unique new node IDs\n",
        "\n",
        "# Determine the starting index for new nodes based on the existing data\n",
        "new_node_index = nodes['node_index'].max() + 1\n",
        "\n",
        "# Process each row in cell_1 to update existing nodes or create new node entries\n",
        "for i, row in cell_1.iterrows():\n",
        "    if pd.isna(row['node_id']):\n",
        "        # Assign a unique new node ID for genes not already in PrimeKG\n",
        "        new_node_id = f\"mathys{mathys_index}\"\n",
        "        cell_1.at[i, 'node_id'] = new_node_id\n",
        "\n",
        "        # Construct a new node entry and add it to the list\n",
        "        new_row = {\n",
        "            'node_index': new_node_index,\n",
        "            'node_id': new_node_id,\n",
        "            'node_type': 'gene/protein',\n",
        "            'node_name': row['Unnamed: 0'],\n",
        "            'node_source': 'mathys et al. 2019'\n",
        "        }\n",
        "        new_rows.append(new_row)\n",
        "        mathys_index += 1\n",
        "        new_node_index += 1\n",
        "\n",
        "# Combine the newly created node data with the existing nodes DataFrame\n",
        "nodes_1 = pd.DataFrame()\n",
        "nodes_1 = pd.concat([nodes, pd.DataFrame(new_rows)], ignore_index=True)\n",
        "\n",
        "# Output information about the updated nodes for verification\n",
        "print(\"Final mathys_index:\", mathys_index)\n",
        "print(\"check nodes:\\n\", pd.DataFrame(new_rows).head())\n"
      ],
      "metadata": {
        "colab": {
          "base_uri": "https://localhost:8080/"
        },
        "id": "UEVmKJJcUk1H",
        "outputId": "210ef706-812a-4a4a-95a9-7bb70298d228"
      },
      "execution_count": null,
      "outputs": [
        {
          "output_type": "stream",
          "name": "stdout",
          "text": [
            "Final mathys_index: 753\n",
            "check nodes:\n",
            "    node_index  node_id     node_type node_name         node_source\n",
            "0      129381  mathys1  gene/protein   NGFRAP1  mathys et al. 2019\n",
            "1      129382  mathys2  gene/protein    ATPIF1  mathys et al. 2019\n",
            "2      129383  mathys3  gene/protein   C14orf2  mathys et al. 2019\n",
            "3      129384  mathys4  gene/protein   FAM153C  mathys et al. 2019\n",
            "4      129385  mathys5  gene/protein    ATP5G3  mathys et al. 2019\n"
          ]
        }
      ]
    },
    {
      "cell_type": "code",
      "source": [
        "# Update the node ID dictionary with the latest nodes data from nodes_1\n",
        "node_id_dict = nodes_1.set_index('node_name')['node_id'].to_dict()\n",
        "\n",
        "# Map gene names in cell_2 to their corresponding node IDs using the updated dictionary\n",
        "cell_2['node_id'] = cell_2['Unnamed: 11'].map(node_id_dict)\n",
        "\n",
        "# Determine the starting index for new nodes based on the updated nodes data\n",
        "new_node_index = nodes_1['node_index'].max() + 1\n",
        "\n",
        "# Initialize a counter for new node IDs, continuing from the last used index in cell_1 processing\n",
        "mathys_index = 753  # Continuing the node ID counter for cell_2\n",
        "\n",
        "# Clear new_rows before starting to process cell_2 to avoid appending to old data\n",
        "new_rows = []\n",
        "\n",
        "# Process each row in cell_2 to update existing nodes or create new node entries\n",
        "for i, row in cell_2.iterrows():\n",
        "    if pd.isna(row['node_id']):\n",
        "        # Assign a unique new node ID for genes not already in PrimeKG\n",
        "        new_node_id = f\"mathys{mathys_index}\"\n",
        "        cell_2.at[i, 'node_id'] = new_node_id\n",
        "\n",
        "        # Construct a new node entry and add it to the list\n",
        "        new_row = {\n",
        "            'node_index': new_node_index,\n",
        "            'node_id': new_node_id,\n",
        "            'node_type': 'gene/protein',\n",
        "            'node_name': row['Unnamed: 11'],\n",
        "            'node_source': 'mathys et al. 2019'\n",
        "        }\n",
        "        new_rows.append(new_row)\n",
        "        mathys_index += 1\n",
        "        new_node_index += 1\n",
        "\n",
        "# Combine the newly created node data with the previously updated nodes DataFrame (nodes_1)\n",
        "nodes_2 = pd.DataFrame()\n",
        "nodes_2 = pd.concat([nodes_1, pd.DataFrame(new_rows)], ignore_index=True)\n",
        "\n",
        "# Output information about the updated nodes for verification\n",
        "print(\"Final mathys_index for cell_2 processing:\", mathys_index)\n",
        "print(\"check nodes:\\n\", pd.DataFrame(new_rows).head())\n"
      ],
      "metadata": {
        "colab": {
          "base_uri": "https://localhost:8080/"
        },
        "id": "NBYcslJ3WndG",
        "outputId": "176c0288-2448-4142-bbbf-64f42f185dbd"
      },
      "execution_count": null,
      "outputs": [
        {
          "output_type": "stream",
          "name": "stdout",
          "text": [
            "Final mathys_index for cell_2 processing: 810\n",
            "check index: 130190\n",
            "check nodes:\n",
            "    node_index    node_id     node_type  node_name         node_source\n",
            "0      130133  mathys753  gene/protein   C11orf84  mathys et al. 2019\n",
            "1      130134  mathys754  gene/protein  HIST1H2AC  mathys et al. 2019\n",
            "2      130135  mathys755  gene/protein   C17orf96  mathys et al. 2019\n",
            "3      130136  mathys756  gene/protein    TMEM159  mathys et al. 2019\n",
            "4      130137  mathys757  gene/protein  HIST1H2BD  mathys et al. 2019\n"
          ]
        }
      ]
    },
    {
      "cell_type": "code",
      "source": [
        "# Update the node ID dictionary with the latest nodes data from nodes_2\n",
        "node_id_dict = nodes_2.set_index('node_name')['node_id'].to_dict()\n",
        "\n",
        "# Map gene names in cell_3 to their corresponding node IDs using the updated dictionary\n",
        "cell_3['node_id'] = cell_3['Unnamed: 22'].map(node_id_dict)\n",
        "\n",
        "# Determine the starting index for new nodes based on the updated nodes data\n",
        "new_node_index = nodes_2['node_index'].max() + 1\n",
        "\n",
        "# Initialize a counter for new node IDs, continuing from the last used index in cell_2 processing\n",
        "mathys_index = 810  # Continuing the node ID counter for cell_3\n",
        "\n",
        "# Clear new_rows before starting to process cell_2 to avoid appending to old data\n",
        "new_rows = []\n",
        "\n",
        "# Process each row in cell_3 to update existing nodes or create new node entries\n",
        "for i, row in cell_3.iterrows():\n",
        "    if pd.isna(row['node_id']):\n",
        "        # Assign a unique new node ID for genes not already in PrimeKG\n",
        "        new_node_id = f\"mathys{mathys_index}\"\n",
        "        cell_3.at[i, 'node_id'] = new_node_id\n",
        "\n",
        "        # Construct a new node entry and add it to the list\n",
        "        new_row = {\n",
        "            'node_index': new_node_index,\n",
        "            'node_id': new_node_id,\n",
        "            'node_type': 'gene/protein',\n",
        "            'node_name': row['Unnamed: 22'],\n",
        "            'node_source': 'mathys et al. 2019'\n",
        "        }\n",
        "        new_rows.append(new_row)\n",
        "        mathys_index += 1\n",
        "        new_node_index += 1\n",
        "\n",
        "# Combine the newly created node data with the previously updated nodes DataFrame (nodes_2)\n",
        "nodes_3 = pd.DataFrame()\n",
        "nodes_3 = pd.concat([nodes_2, pd.DataFrame(new_rows)], ignore_index=True)\n",
        "\n",
        "# Output information about the updated nodes for verification\n",
        "print(\"Final mathys_index for cell_3 processing:\", mathys_index)\n",
        "print(\"check nodes:\\n\", pd.DataFrame(new_rows).head())\n"
      ],
      "metadata": {
        "colab": {
          "base_uri": "https://localhost:8080/"
        },
        "id": "O0RBxqseXbgJ",
        "outputId": "3458fb58-a357-4e3e-9f3b-16c97bfb0432"
      },
      "execution_count": null,
      "outputs": [
        {
          "output_type": "stream",
          "name": "stdout",
          "text": [
            "Final mathys_index for cell_3 processing: 832\n",
            "check nodes:\n",
            "    node_index    node_id     node_type     node_name         node_source\n",
            "0      130190  mathys810  gene/protein       FAM231D  mathys et al. 2019\n",
            "1      130191  mathys811  gene/protein    AC087350.1  mathys et al. 2019\n",
            "2      130192  mathys812  gene/protein         SEPP1  mathys et al. 2019\n",
            "3      130193  mathys813  gene/protein      HIST1H4E  mathys et al. 2019\n",
            "4      130194  mathys814  gene/protein  CTD-2370N5.3  mathys et al. 2019\n"
          ]
        }
      ]
    },
    {
      "cell_type": "code",
      "source": [
        "# Convert DataFrame 'cell_1' to PrimeKG format for integration\n",
        "new_df1 = pd.DataFrame()\n",
        "\n",
        "# Copy the 'relation' data from 'cell_1'\n",
        "new_df1['relation'] = cell_1['IndModel.FC']\n",
        "new_df1['display_relation'] = new_df1['relation'].map({\n",
        "    'no-pathology vs pathology up mathys': 'np-p-up m',\n",
        "    'no-pathology vs pathology down mathys': 'np-p-down m'\n",
        "})\n",
        "\n",
        "# Set attributes for x_node in the PrimeKG data format\n",
        "new_df1['x_id'] = 'mathys_1'  # Unique identifier for the x_node\n",
        "new_df1['x_type'] = 'celltype'  # Type of the x_node\n",
        "new_df1['x_name'] = 'Ex'  # Name of the x_node\n",
        "new_df1['x_source'] = 'mathys et al. 2019'  # Source of the x_node data\n",
        "\n",
        "# Set attributes for y_node in the PrimeKG data format\n",
        "new_df1['y_id'] = cell_1['node_id']  # Unique identifier for the y_node\n",
        "new_df1['y_type'] = 'gene/protein'  # Type of the y_node\n",
        "new_df1['y_name'] = cell_1['Unnamed: 0']  # Name of the y_node\n",
        "\n",
        "# Determine the y_source based on the node_id\n",
        "new_df1['y_source'] = new_df1['y_id'].apply(lambda x: 'mathys et al. 2019' if x.startswith('mathys') else 'NCBI')\n",
        "\n",
        "# Print the first few rows of the new DataFrame to verify the structure\n",
        "print(new_df1.head())\n"
      ],
      "metadata": {
        "colab": {
          "base_uri": "https://localhost:8080/"
        },
        "id": "CDjjoUQfbbVK",
        "outputId": "4cd47b91-72be-4d87-d541-e0b6aca520bc"
      },
      "execution_count": null,
      "outputs": [
        {
          "output_type": "stream",
          "name": "stdout",
          "text": [
            "                                relation display_relation      x_id    x_type  \\\n",
            "0    no-pathology vs pathology up mathys        np-p-up m  mathys_1  celltype   \n",
            "1  no-pathology vs pathology down mathys      np-p-down m  mathys_1  celltype   \n",
            "2    no-pathology vs pathology up mathys        np-p-up m  mathys_1  celltype   \n",
            "3  no-pathology vs pathology down mathys      np-p-down m  mathys_1  celltype   \n",
            "4    no-pathology vs pathology up mathys        np-p-up m  mathys_1  celltype   \n",
            "\n",
            "  x_name            x_source     y_id        y_type    y_name  \\\n",
            "0     Ex  mathys et al. 2019   153020  gene/protein  RASGEF1B   \n",
            "1     Ex  mathys et al. 2019  mathys1  gene/protein   NGFRAP1   \n",
            "2     Ex  mathys et al. 2019    84894  gene/protein    LINGO1   \n",
            "3     Ex  mathys et al. 2019    55859  gene/protein      BEX1   \n",
            "4     Ex  mathys et al. 2019     1811  gene/protein   SLC26A3   \n",
            "\n",
            "             y_source  \n",
            "0                NCBI  \n",
            "1  mathys et al. 2019  \n",
            "2                NCBI  \n",
            "3                NCBI  \n",
            "4                NCBI  \n"
          ]
        }
      ]
    },
    {
      "cell_type": "code",
      "source": [
        "# Convert DataFrame 'cell_2' to PrimeKG format for integration\n",
        "new_df2 = pd.DataFrame()\n",
        "\n",
        "# Copy the 'relation' data from 'cell_2'\n",
        "new_df2['relation'] = cell_2['IndModel.FC.1']\n",
        "new_df2['display_relation'] = new_df2['relation'].map({\n",
        "    'no-pathology vs early-pathology up mathys': 'np-ep-up m',\n",
        "    'no-pathology vs early-pathology down mathys': 'np-ep-down m'\n",
        "})\n",
        "\n",
        "# Set attributes for x_node in the PrimeKG data format\n",
        "new_df2['x_id'] = 'mathys_1'  # Unique identifier for the x_node\n",
        "new_df2['x_type'] = 'celltype'  # Type of the x_node\n",
        "new_df2['x_name'] = 'Ex'  # Name of the x_node\n",
        "new_df2['x_source'] = 'mathys et al. 2019'  # Source of the x_node data\n",
        "\n",
        "# Set attributes for y_node in the PrimeKG data format\n",
        "new_df2['y_id'] = cell_2['node_id']  # Unique identifier for the y_node\n",
        "new_df2['y_type'] = 'gene/protein'  # Type of the y_node\n",
        "new_df2['y_name'] = cell_2['Unnamed: 11']  # Name of the y_node\n",
        "\n",
        "# Determine the y_source based on the node_id\n",
        "new_df2['y_source'] = new_df2['y_id'].apply(lambda x: 'mathys et al. 2019' if x.startswith('mathys') else 'NCBI')\n",
        "\n",
        "# Print the first few rows of 'new_df2' to verify the structure and data mapping\n",
        "print(new_df2.head())\n"
      ],
      "metadata": {
        "colab": {
          "base_uri": "https://localhost:8080/"
        },
        "id": "LsPDDjzycvr-",
        "outputId": "da244798-8f95-48f3-b409-131772b05464"
      },
      "execution_count": null,
      "outputs": [
        {
          "output_type": "stream",
          "name": "stdout",
          "text": [
            "                                      relation display_relation      x_id  \\\n",
            "0  no-pathology vs early-pathology down mathys     np-ep-down m  mathys_1   \n",
            "1  no-pathology vs early-pathology down mathys     np-ep-down m  mathys_1   \n",
            "2  no-pathology vs early-pathology down mathys     np-ep-down m  mathys_1   \n",
            "3    no-pathology vs early-pathology up mathys       np-ep-up m  mathys_1   \n",
            "4  no-pathology vs early-pathology down mathys     np-ep-down m  mathys_1   \n",
            "\n",
            "     x_type x_name            x_source     y_id        y_type    y_name  \\\n",
            "0  celltype     Ex  mathys et al. 2019     3925  gene/protein     STMN1   \n",
            "1  celltype     Ex  mathys et al. 2019  mathys2  gene/protein    ATPIF1   \n",
            "2  celltype     Ex  mathys et al. 2019     6138  gene/protein     RPL15   \n",
            "3  celltype     Ex  mathys et al. 2019   153020  gene/protein  RASGEF1B   \n",
            "4  celltype     Ex  mathys et al. 2019     3094  gene/protein     HINT1   \n",
            "\n",
            "             y_source  \n",
            "0                NCBI  \n",
            "1  mathys et al. 2019  \n",
            "2                NCBI  \n",
            "3                NCBI  \n",
            "4                NCBI  \n"
          ]
        }
      ]
    },
    {
      "cell_type": "code",
      "source": [
        "# Convert DataFrame 'cell_3' to PrimeKG format for integration\n",
        "new_df3 = pd.DataFrame()\n",
        "\n",
        "# Copy the 'relation' data from 'cell_3'\n",
        "new_df3['relation'] = cell_3['IndModel.FC.2']\n",
        "new_df3['display_relation'] = new_df3['relation'].map({\n",
        "    'early-pathology vs late-pathology up mathys': 'ep-lp-up m',\n",
        "    'early-pathology vs late-pathology down mathys': 'ep-lp-down m'\n",
        "})\n",
        "\n",
        "# Set attributes for x_node in the PrimeKG data format\n",
        "new_df3['x_id'] = 'mathys_1'  # Identifier for the x_node\n",
        "new_df3['x_type'] = 'celltype'  # Type of the x_node\n",
        "new_df3['x_name'] = 'Ex'  # Name of the x_node\n",
        "new_df3['x_source'] = 'mathys et al. 2019'  # Data source for the x_node\n",
        "\n",
        "# Set attributes for y_node in the PrimeKG data format\n",
        "new_df3['y_id'] = cell_3['node_id']  # Unique identifier for each y_node\n",
        "new_df3['y_type'] = 'gene/protein'  # Type of the y_node\n",
        "new_df3['y_name'] = cell_3['Unnamed: 22']  # Name of the y_node\n",
        "\n",
        "# Determine the y_source based on the node_id\n",
        "new_df3['y_source'] = new_df3['y_id'].apply(lambda x: 'mathys et al. 2019' if x.startswith('mathys') else 'NCBI')\n",
        "\n",
        "# Print the first few rows of 'new_df3' to verify correct data formatting and mapping\n",
        "print(new_df3.head())\n"
      ],
      "metadata": {
        "colab": {
          "base_uri": "https://localhost:8080/"
        },
        "id": "WwYFbxbXdv2W",
        "outputId": "d9f1ca24-ef82-4157-c8ea-929417602e00"
      },
      "execution_count": null,
      "outputs": [
        {
          "output_type": "stream",
          "name": "stdout",
          "text": [
            "                                      relation display_relation      x_id  \\\n",
            "0  early-pathology vs late-pathology up mathys       ep-lp-up m  mathys_1   \n",
            "1  early-pathology vs late-pathology up mathys       ep-lp-up m  mathys_1   \n",
            "2  early-pathology vs late-pathology up mathys       ep-lp-up m  mathys_1   \n",
            "3  early-pathology vs late-pathology up mathys       ep-lp-up m  mathys_1   \n",
            "4  early-pathology vs late-pathology up mathys       ep-lp-up m  mathys_1   \n",
            "\n",
            "     x_type x_name            x_source   y_id        y_type    y_name y_source  \n",
            "0  celltype     Ex  mathys et al. 2019   8655  gene/protein    DYNLL1     NCBI  \n",
            "1  celltype     Ex  mathys et al. 2019   4697  gene/protein    NDUFA4     NCBI  \n",
            "2  celltype     Ex  mathys et al. 2019   3320  gene/protein  HSP90AA1     NCBI  \n",
            "3  celltype     Ex  mathys et al. 2019   1350  gene/protein     COX7C     NCBI  \n",
            "4  celltype     Ex  mathys et al. 2019  83442  gene/protein  SH3BGRL3     NCBI  \n"
          ]
        }
      ]
    },
    {
      "cell_type": "code",
      "source": [
        "# Read in kgraw\n",
        "kgraw = pd.read_csv('/content/drive/My Drive/primekg_files/kg_raw.csv')\n"
      ],
      "metadata": {
        "colab": {
          "base_uri": "https://localhost:8080/"
        },
        "id": "3YTjC811fAGW",
        "outputId": "56a2a1ed-4c78-458d-d504-773bd2496a82"
      },
      "execution_count": null,
      "outputs": [
        {
          "output_type": "stream",
          "name": "stderr",
          "text": [
            "<ipython-input-129-47bc0c712f0a>:2: DtypeWarning: Columns (2,6) have mixed types. Specify dtype option on import or set low_memory=False.\n",
            "  kgraw = pd.read_csv('/content/drive/My Drive/primekg_files/kg_raw.csv')\n"
          ]
        }
      ]
    },
    {
      "cell_type": "code",
      "source": [
        "# Mirror each edge, for each (x,y) edge there should also be a (y,x) edge to match PrimeKG format\n",
        "combined_df = pd.concat([new_df1, new_df2, new_df3], ignore_index=True)\n",
        "interchanged_df = combined_df.copy()\n",
        "\n",
        "columns_to_interchange = ['id', 'type', 'name', 'source']\n",
        "for col in columns_to_interchange:\n",
        "    interchanged_df[f'x_{col}'], interchanged_df[f'y_{col}'] = combined_df[f'y_{col}'], combined_df[f'x_{col}']\n",
        "\n",
        "# now concatenate kgraw with the dataframes\n",
        "final = pd.concat([kgraw, combined_df, interchanged_df], ignore_index=True)\n",
        "\n",
        "\n",
        "\n",
        "final.to_csv('/content/drive/My Drive/primekg_files/kgraw_final_1.csv', index=False, header=True)\n",
        "nodes_3.to_csv('/content/drive/My Drive/primekg_files/nodes_final_1.csv', index=False, header=True)\n",
        "\n"
      ],
      "metadata": {
        "id": "lRMvt_5cG4ke"
      },
      "execution_count": null,
      "outputs": []
    }
  ]
}