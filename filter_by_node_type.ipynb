{
  "nbformat": 4,
  "nbformat_minor": 0,
  "metadata": {
    "colab": {
      "provenance": [],
      "authorship_tag": "ABX9TyOBF3sp0YT0oBLlBepg42H9",
      "include_colab_link": true
    },
    "kernelspec": {
      "name": "python3",
      "display_name": "Python 3"
    },
    "language_info": {
      "name": "python"
    }
  },
  "cells": [
    {
      "cell_type": "markdown",
      "metadata": {
        "id": "view-in-github",
        "colab_type": "text"
      },
      "source": [
        "<a href=\"https://colab.research.google.com/github/anya-chauhan/alzkg/blob/main/filter_by_node_type.ipynb\" target=\"_parent\"><img src=\"https://colab.research.google.com/assets/colab-badge.svg\" alt=\"Open In Colab\"/></a>"
      ]
    },
    {
      "cell_type": "code",
      "source": [
        "# Optional Preparation Steps\n",
        "!pip install pandas\n",
        "# Import the drive module from Google Colab for file access, mount Google Drive\n",
        "from google.colab import drive\n",
        "drive.mount('/content/drive')"
      ],
      "metadata": {
        "id": "nbzn7i14RmuQ"
      },
      "execution_count": null,
      "outputs": []
    },
    {
      "cell_type": "code",
      "execution_count": null,
      "metadata": {
        "colab": {
          "base_uri": "https://localhost:8080/"
        },
        "id": "WaTa_78eOChK",
        "outputId": "645f832e-4e4b-4138-f0c3-d6799ca1758d"
      },
      "outputs": [
        {
          "output_type": "stream",
          "name": "stderr",
          "text": [
            "<ipython-input-7-46cfccb88ba3>:20: DtypeWarning: Columns (2,6) have mixed types. Specify dtype option on import or set low_memory=False.\n",
            "  primekg = pd.read_csv(file_path)\n"
          ]
        },
        {
          "output_type": "stream",
          "name": "stdout",
          "text": [
            "Unique node types in x_type column: ['gene/protein' 'biological_process' 'cellular_component' 'pathway']\n"
          ]
        }
      ],
      "source": [
        "import pandas as pd\n",
        "\n",
        "def filter_by_node_types(file_path, operation_mode, node_types=None):\n",
        "    \"\"\"\n",
        "    Filter or print unique node types from a knowledge graph CSV file based on user preferences.\n",
        "\n",
        "    Args:\n",
        "        file_path (str): The path to the CSV file to be processed.\n",
        "        operation_mode (str): Operation mode;\n",
        "        'retain_node_types' to retain rows where both x_type and y_type match the specified node types,\n",
        "        'delete_node_types' to remove those rows, or\n",
        "        'print_node_types' to print unique node types in the x_type column.\n",
        "        node_types (list, optional): List of node types to either retain or remove, based on the operation mode.\n",
        "        Required for 'retain_node_types' and 'delete_node_types' modes.\n",
        "\n",
        "    Returns:\n",
        "        None: Depending on the operation mode, the function outputs a filtered CSV file or prints unique node types.\n",
        "    \"\"\"\n",
        "    # Load the dataset\n",
        "    primekg = pd.read_csv(file_path)\n",
        "\n",
        "    if operation_mode == 'print_node_types':\n",
        "        # Print all unique node types in the x_type column\n",
        "        unique_node_types = primekg['x_type'].unique()\n",
        "        print(\"Unique node types in x_type column:\", unique_node_types)\n",
        "        return\n",
        "\n",
        "    if node_types is None:\n",
        "        raise ValueError(\"node_types must be provided for 'retain_node_types' or 'delete_node_types' operation modes.\")\n",
        "\n",
        "    if operation_mode == 'retain_node_types':\n",
        "        # Filter the DataFrame to retain rows where both x_type and y_type match the specified node types\n",
        "        filtered_primekg = primekg[\n",
        "            (primekg['x_type'].isin(node_types)) & (primekg['y_type'].isin(node_types))\n",
        "        ]\n",
        "    elif operation_mode == 'delete_node_types':\n",
        "        # Filter the DataFrame to remove rows where either x_type or y_type matches the specified node types\n",
        "        filtered_primekg = primekg[\n",
        "            (~primekg['x_type'].isin(node_types)) & (~primekg['y_type'].isin(node_types))\n",
        "        ]\n",
        "    else:\n",
        "        raise ValueError(\"Invalid operation mode. Choose 'retain_node_types', 'delete_node_types', or 'print_node_types'.\")\n",
        "\n",
        "    if operation_mode in ['retain_node_types', 'delete_node_types']:\n",
        "        # Write the filtered DataFrame to a new CSV file\n",
        "        output_path = file_path.replace('.csv', '_filtered.csv')\n",
        "        filtered_primekg.to_csv(output_path, index=False)\n",
        "        print(f\"Filtered data written to {output_path}\")\n",
        "\n",
        "# Example usage\n",
        "file_path = '/content/drive/My Drive/primekg_files/kg_raw_orig_filtered.csv'  # Adjust the path as needed\n",
        "operation_mode = 'print_node_types'  # Can be 'retain_node_types', 'delete_node_types', or 'print_node_types'\n",
        "node_types = ['gene/protein', 'pathway', 'biological_process', 'cellular_component']  # Specify node types for 'retain_node_types' or 'delete_node_types' modes\n",
        "\n",
        "filter_by_node_types(file_path, operation_mode, node_types)\n"
      ]
    }
  ]
}